{
    "cells": [
        {
            "cell_type": "markdown",
            "metadata": {},
            "source": "# Scrape\n\nFor the scrapping part I'll use Beatiful Soap.\n"
        },
        {
            "cell_type": "code",
            "execution_count": 54,
            "metadata": {},
            "outputs": [],
            "source": "# libraries to import\nimport pandas as pd\nimport numpy as np\nimport requests\nfrom urllib.request import urlopen\nfrom bs4 import BeautifulSoup"
        },
        {
            "cell_type": "markdown",
            "metadata": {},
            "source": "Necessary steps to convert a html page into a dataframe."
        },
        {
            "cell_type": "code",
            "execution_count": 57,
            "metadata": {},
            "outputs": [
                {
                    "name": "stdout",
                    "output_type": "stream",
                    "text": "  PostalCode       Borough     Neighbourhood\n0       None          None              None\n1        M1A  Not assigned      Not assigned\n2        M2A  Not assigned      Not assigned\n3        M3A    North York         Parkwoods\n4        M4A    North York  Victoria Village\n(181, 3)\n"
                }
            ],
            "source": "# scrape the data from the webpage to a table with 3 columns\nPageToScrape = requests.get('https://en.wikipedia.org/wiki/List_of_postal_codes_of_Canada:_M').text\nPageToScrape = BeautifulSoup(PageToScrape, 'lxml')\nPageToScrape = PageToScrape.find('table',{'class':'wikitable sortable'})\nPageToScrape = PageToScrape.find_all('tr')\n#PageToScrape\n\ntable = []\n\nfor row in PageToScrape:\n    table.append([t.text.strip() for t in row.find_all('td')])\n\n    \ndf = pd.DataFrame(table, columns=['PostalCode', 'Borough', 'Neighbourhood'])\nprint(df.head(5))\nprint(df.shape)"
        },
        {
            "cell_type": "markdown",
            "metadata": {},
            "source": "After crating the table I will clean the table, removing nulls and other invalid data."
        },
        {
            "cell_type": "code",
            "execution_count": 58,
            "metadata": {},
            "outputs": [
                {
                    "name": "stdout",
                    "output_type": "stream",
                    "text": "  PostalCode           Borough                                Neighbourhood\n3        M3A        North York                                    Parkwoods\n4        M4A        North York                             Victoria Village\n5        M5A  Downtown Toronto                    Regent Park, Harbourfront\n6        M6A        North York             Lawrence Manor, Lawrence Heights\n7        M7A  Downtown Toronto  Queen's Park, Ontario Provincial Government\n(103, 3)\n"
                }
            ],
            "source": "# cleaning the table\ndf1 = df\ndf1 = df1[~df1['PostalCode'].isnull()]  \ndf1.drop(df1[df1['Borough']==\"Not assigned\"].index,axis=0, inplace=True)\nprint(df1.head(5))\nprint(df1.shape)"
        },
        {
            "cell_type": "code",
            "execution_count": 59,
            "metadata": {},
            "outputs": [
                {
                    "name": "stdout",
                    "output_type": "stream",
                    "text": "                Borough                           Neighbourhood\nPostalCode                                                     \nM1B         Scarborough                          Malvern, Rouge\nM1C         Scarborough  Rouge Hill, Port Union, Highland Creek\nM1E         Scarborough       Guildwood, Morningside, West Hill\nM1G         Scarborough                                  Woburn\nM1H         Scarborough                               Cedarbrae\n(103, 2)\n"
                }
            ],
            "source": "# merging postal codes\ndf2 = df1\ndf2 = df2.reset_index()\ndf2= df1.groupby('PostalCode').agg(lambda x: ','.join(x))\ndf2.loc[df2['Neighbourhood']==\"Not assigned\",'Neighbourhood']=df2.loc[df2['Neighbourhood']==\"Not assigned\",'Borough']\nprint(df2.head(5))\nprint(df2.shape)"
        },
        {
            "cell_type": "code",
            "execution_count": 63,
            "metadata": {},
            "outputs": [
                {
                    "name": "stdout",
                    "output_type": "stream",
                    "text": "   PostalCode      Borough                                      Neighbourhood\n0         M1B  Scarborough                                     Malvern, Rouge\n1         M1C  Scarborough             Rouge Hill, Port Union, Highland Creek\n2         M1E  Scarborough                  Guildwood, Morningside, West Hill\n3         M1G  Scarborough                                             Woburn\n4         M1H  Scarborough                                          Cedarbrae\n5         M1J  Scarborough                                Scarborough Village\n6         M1K  Scarborough        Kennedy Park, Ionview, East Birchmount Park\n7         M1L  Scarborough                    Golden Mile, Clairlea, Oakridge\n8         M1M  Scarborough    Cliffside, Cliffcrest, Scarborough Village West\n9         M1N  Scarborough                        Birch Cliff, Cliffside West\n10        M1P  Scarborough  Dorset Park, Wexford Heights, Scarborough Town...\n11        M1R  Scarborough                                  Wexford, Maryvale\n12        M1S  Scarborough                                          Agincourt\n13        M1T  Scarborough            Clarks Corners, Tam O'Shanter, Sullivan\n14        M1V  Scarborough  Milliken, Agincourt North, Steeles East, L'Amo...\n(103, 3)\n"
                }
            ],
            "source": "# Final table\ndf3 = df2\ndf3 = df3.reset_index()\nprint(df3.head(15))\nprint(df3.shape)"
        }
    ],
    "metadata": {
        "kernelspec": {
            "display_name": "Python 3.6",
            "language": "python",
            "name": "python3"
        },
        "language_info": {
            "codemirror_mode": {
                "name": "ipython",
                "version": 3
            },
            "file_extension": ".py",
            "mimetype": "text/x-python",
            "name": "python",
            "nbconvert_exporter": "python",
            "pygments_lexer": "ipython3",
            "version": "3.6.9"
        }
    },
    "nbformat": 4,
    "nbformat_minor": 1
}