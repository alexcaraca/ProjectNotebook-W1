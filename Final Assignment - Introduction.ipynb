{
    "cells": [
        {
            "cell_type": "markdown",
            "metadata": {
                "collapsed": true
            },
            "source": "# Introduction - The case for Lisbon\n\nRegarding Lisbon I will try to map the parish of the city against foursquare in order to see what are the main activities of each parish. The purpose is to help to decide in which parish should I open a restaurant or any other kind of business that I may considerer.\n\nThe first obstacule that I may find is to get the GPS coordenates of all the parishes of the city.\n\nA limitation of this analysis that I may encounter is that all the conclusions will be taken without financial values (namely price of acquistion and/ or rental of the space).\n\nThis exercise could be helpfull to anyone interested in open a new business."
        }
    ],
    "metadata": {
        "kernelspec": {
            "display_name": "Python 3.6",
            "language": "python",
            "name": "python3"
        },
        "language_info": {
            "codemirror_mode": {
                "name": "ipython",
                "version": 3
            },
            "file_extension": ".py",
            "mimetype": "text/x-python",
            "name": "python",
            "nbconvert_exporter": "python",
            "pygments_lexer": "ipython3",
            "version": "3.6.9"
        }
    },
    "nbformat": 4,
    "nbformat_minor": 1
}